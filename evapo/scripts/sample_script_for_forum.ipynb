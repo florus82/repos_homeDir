{
 "cells": [
  {
   "cell_type": "code",
   "execution_count": 1,
   "metadata": {},
   "outputs": [],
   "source": [
    "import geopandas as gpd\n",
    "import pandas as pd\n",
    "import shapely\n",
    "\n",
    "df = pd.read_csv('/data/Aldhani/eoagritwin/et/data/stations/et_stations.csv', sep=';', encoding=\"ISO-8859-1\")\n",
    "# List of valid cell IDs\n",
    "valids = df['FORCE_TILE'].tolist()\n",
    "\n",
    "# read FORCE_TILES shapefile\n",
    "gdf = gpd.read_file('/data/Aldhani/dc/deu/vector/datacube-grid_DEU_10km.gpkg', layer='datacube-grid_DEU_10km')\n",
    "gdf = gdf.to_crs(epsg=4326)\n",
    "\n",
    "aoiList = []\n",
    "# Loop through the features\n",
    "for _, row in gdf.iterrows():\n",
    "    if row['Tile_ID'] in valids:\n",
    "        geometry = row.geometry  # Get geometry of the feature\n",
    "        if geometry.geom_type == 'Polygon':\n",
    "            coords = list(geometry.exterior.coords)  # Get coordinates of polygon\n",
    "        else:\n",
    "            coords = list(geometry.coords)  # For non-polygon geometries\n",
    "\n",
    "        clist = [c for co in coords for c in co]\n",
    "        clist.sort()\n",
    "        aoiList.append({\"west\": clist[0], \"south\": clist[5], \"east\": clist[4], \"north\": clist[9]})\n",
    "        "
   ]
  },
  {
   "cell_type": "code",
   "execution_count": null,
   "metadata": {},
   "outputs": [],
   "source": [
    "import openeo\n",
    "import matplotlib.pyplot as plt\n",
    "import xarray as xr\n",
    "import os\n",
    "\n",
    "connection = openeo.connect(\"openeo.dataspace.copernicus.eu\").authenticate_oidc()\n",
    "\n",
    "connection.describe_collection(\"SENTINEL3_SLSTR_L2_LST\")\n",
    "\n",
    "dates = [[\"2024-01-01\", \"2024-12-31\"], [\"2023-01-01\", \"2023-12-31\"], [\"2022-01-01\", \"2022-12-31\"], [\"2021-01-01\", \"2021-12-31\"],\n",
    "         [\"2020-01-01\", \"2020-12-31\"], [\"2019-01-01\", \"2019-12-31\"], [\"2018-01-01\", \"2018-12-31\"], [\"2017-01-01\", \"2017-12-31\"]]\n",
    "\n",
    "germany = {\"west\": 5.592041, \"south\": 47.129951, \"east\": 15.26001, \"north\": 55.09723}\n",
    "\n",
    "for i, aoi in enumerate(aoiList):\n",
    "    for date in dates:\n",
    "        storPath = f\"/data/Aldhani/eoagritwin/et/data/Sentinel3/{valids[i]}_{date[0]}_{date[1]}.nc\"\n",
    "        if os.path.exists(storPath):\n",
    "            print(f\"{storPath} already exists - next one\")\n",
    "        else:\n",
    "            try:\n",
    "                sentinel3_cube = connection.load_collection(\n",
    "                    \"SENTINEL3_SLSTR_L2_LST\",\n",
    "                    spatial_extent = aoi,\n",
    "                    temporal_extent = date,\n",
    "                    bands=[\"LST\"],\n",
    "                )\n",
    "\n",
    "                cloud_mask = connection.load_collection(\n",
    "                    \"SENTINEL3_SLSTR_L2_LST\",\n",
    "                    temporal_extent = date,\n",
    "                    spatial_extent = aoi,\n",
    "                    bands=[\"confidence_in\"],\n",
    "                )\n",
    "\n",
    "                cloud_mask = cloud_mask >= 16384\n",
    "\n",
    "                LST = sentinel3_cube.mask(cloud_mask)\n",
    "                LST.download(storPath)\n",
    "            except Exception as e:\n",
    "                print(e)\n",
    "                continue"
   ]
  },
  {
   "cell_type": "code",
   "execution_count": null,
   "metadata": {},
   "outputs": [
    {
     "name": "stdout",
     "output_type": "stream",
     "text": [
      "Authenticated using refresh token.\n",
      "{'west': 13.844073940126027, 'south': 51.786672747838345, 'east': 14.304018041174343, 'north': 52.07086657455895} ['2022-01-01', '2022-01-31']\n",
      "{'west': 13.844073940126027, 'south': 51.786672747838345, 'east': 14.304018041174343, 'north': 52.07086657455895} ['2022-02-01', '2022-02-28']\n",
      "{'west': 13.844073940126027, 'south': 51.786672747838345, 'east': 14.304018041174343, 'north': 52.07086657455895} ['2022-03-01', '2022-03-31']\n",
      "{'west': 13.844073940126027, 'south': 51.786672747838345, 'east': 14.304018041174343, 'north': 52.07086657455895} ['2022-04-01', '2022-04-30']\n"
     ]
    }
   ],
   "source": [
    "import openeo\n",
    "import matplotlib.pyplot as plt\n",
    "import xarray as xr\n",
    "\n",
    "connection = openeo.connect(\"openeo.dataspace.copernicus.eu\").authenticate_oidc()\n",
    "\n",
    "connection.describe_collection(\"SENTINEL3_SLSTR_L2_LST\")\n",
    "\n",
    "dates = [#[\"2024-01-01\", \"2024-12-31\"], [\"2023-01-01\", \"2023-12-31\"], \n",
    "         [\"2022-01-01\", \"2022-12-31\"], [\"2021-01-01\", \"2021-12-31\"],\n",
    "         [\"2020-01-01\", \"2020-12-31\"], [\"2019-01-01\", \"2019-12-31\"], [\"2018-01-01\", \"2018-12-31\"], [\"2017-01-01\", \"2017-12-31\"]]\n",
    "\n",
    "dates = [[\"2022-01-01\", \"2022-01-31\"], [\"2022-02-01\", \"2022-02-28\"], [\"2022-03-01\", \"2022-03-31\"], \n",
    "         [\"2022-04-01\", \"2022-04-30\"], [\"2022-05-01\", \"2022-05-31\"], [\"2022-06-01\", \"2022-06-30\"],\n",
    "         [\"2022-07-01\", \"2022-07-31\"], [\"2022-08-01\", \"2022-08-31\"], [\"2022-09-01\", \"2022-09-30\"], \n",
    "         [\"2022-10-01\", \"2022-10-31\"], [\"2022-11-01\", \"2022-11-30\"], [\"2022-12-01\", \"2022-12-31\"],]\n",
    "\n",
    "germany = {\"west\": 5.592041, \"south\": 47.129951, \"east\": 15.26001, \"north\": 55.09723}\n",
    "germanyList = [{\"west\": 5.592041, \"south\": 47.129951, \"east\": 10, \"north\": 51},\n",
    "               {\"west\": 10, \"south\": 47.129951, \"east\": 15.26001, \"north\": 51},\n",
    "               {\"west\": 5.592041, \"south\": 51, \"east\": 10, \"north\": 55.09723},\n",
    "               {\"west\": 10, \"south\": 51, \"east\": 15.26001, \"north\": 55.09723}]\n",
    "for date in dates:\n",
    "    print(aoi, date)\n",
    "    try:\n",
    "        sentinel3_cube = connection.load_collection(\n",
    "            \"SENTINEL3_SLSTR_L2_LST\",\n",
    "            spatial_extent = germany,\n",
    "            temporal_extent = date,\n",
    "            bands=[\"LST\"],\n",
    "        )\n",
    "\n",
    "        cloud_mask = connection.load_collection(\n",
    "            \"SENTINEL3_SLSTR_L2_LST\",\n",
    "            spatial_extent = germany,\n",
    "            temporal_extent = date,\n",
    "            bands=[\"confidence_in\"],\n",
    "        )\n",
    "\n",
    "        cloud_mask = cloud_mask >= 16384\n",
    "\n",
    "        LST = sentinel3_cube.mask(cloud_mask)\n",
    "        LST.download(f\"/data/Aldhani/eoagritwin/et/data/Sentinel3/Germany_{date[0]}_{date[1]}.nc\")\n",
    "    except Exception as e:\n",
    "        print(e)\n",
    "        continue"
   ]
  },
  {
   "cell_type": "code",
   "execution_count": null,
   "metadata": {},
   "outputs": [],
   "source": [
    "ds = xr.load_dataset(\"LST.nc\")\n",
    "# Select 16 time steps (adjust this as needed)\n",
    "time_indices = list(range(16))  # Select first 16 time steps\n",
    "selected_times = ds.isel(t=time_indices)\n",
    "\n",
    "# Create a 4x4 figure\n",
    "fig, axes = plt.subplots(4, 4, figsize=(12, 12))\n",
    "\n",
    "# Flatten the axes array for easy iteration\n",
    "axes = axes.flatten()\n",
    "\n",
    "for i, t_index in enumerate(time_indices):\n",
    "    ax = axes[i]\n",
    "    data = selected_times.LST.isel(t=i)  # Extract single time slice\n",
    "    im = ax.imshow(data, cmap=\"viridis\", origin=\"lower\", aspect=\"auto\")\n",
    "    \n",
    "    # Add title with time information\n",
    "    ax.set_title(str(selected_times.t[i].values)[:16], fontsize=8)\n",
    "    ax.axis(\"off\")  # Hide axis for better visualization\n",
    "\n",
    "# Adjust layout\n",
    "plt.tight_layout()\n",
    "plt.show()"
   ]
  },
  {
   "cell_type": "code",
   "execution_count": null,
   "metadata": {},
   "outputs": [],
   "source": [
    "job = LST.execute_batch(\n",
    "    outputfile=\"lst.nc\"\n",
    ")\n"
   ]
  },
  {
   "cell_type": "code",
   "execution_count": 1,
   "metadata": {},
   "outputs": [],
   "source": [
    "dates = [[\"2021-01-01\", \"2021-01-31\"], [\"2021-02-01\", \"2021-02-28\"], [\"2021-03-01\", \"2021-03-31\"], \n",
    "         [\"2021-04-01\", \"2021-04-30\"], [\"2021-05-01\", \"2021-05-31\"], [\"2021-06-01\", \"2021-06-30\"],\n",
    "         [\"2021-07-01\", \"2021-07-31\"], [\"2021-08-01\", \"2021-08-31\"], [\"2021-09-01\", \"2021-09-30\"], \n",
    "         [\"2021-10-01\", \"2021-10-31\"], [\"2021-11-01\", \"2021-11-30\"], [\"2021-12-01\", \"2021-12-31\"],\n",
    "\n",
    "         [\"2020-01-01\", \"2020-01-31\"], [\"2020-02-01\", \"2020-02-29\"], [\"2020-03-01\", \"2020-03-31\"], \n",
    "         [\"2020-04-01\", \"2020-04-30\"], [\"2020-05-01\", \"2020-05-31\"], [\"2020-06-01\", \"2020-06-30\"],\n",
    "         [\"2020-07-01\", \"2020-07-31\"], [\"2020-08-01\", \"2020-08-31\"], [\"2020-09-01\", \"2020-09-30\"], \n",
    "         [\"2020-10-01\", \"2020-10-31\"], [\"2020-11-01\", \"2020-11-30\"], [\"2020-12-01\", \"2020-12-31\"],\n",
    "\n",
    "         [\"2019-01-01\", \"2019-01-31\"], [\"2019-02-01\", \"2019-02-28\"], [\"2019-03-01\", \"2019-03-31\"], \n",
    "         [\"2019-04-01\", \"2019-04-30\"], [\"2019-05-01\", \"2019-05-31\"], [\"2019-06-01\", \"2019-06-30\"],\n",
    "         [\"2019-07-01\", \"2019-07-31\"], [\"2019-08-01\", \"2019-08-31\"], [\"2019-09-01\", \"2019-09-30\"], \n",
    "         [\"2019-10-01\", \"2019-10-31\"], [\"2019-11-01\", \"2019-11-30\"], [\"2019-12-01\", \"2019-12-31\"],\n",
    "\n",
    "         [\"2018-01-01\", \"2018-01-31\"], [\"2018-02-01\", \"2018-02-28\"], [\"2018-03-01\", \"2018-03-31\"], \n",
    "         [\"2018-04-01\", \"2018-04-30\"], [\"2018-05-01\", \"2018-05-31\"], [\"2018-06-01\", \"2018-06-30\"],\n",
    "         [\"2018-07-01\", \"2018-07-31\"], [\"2018-08-01\", \"2018-08-31\"], [\"2018-09-01\", \"2018-09-30\"], \n",
    "         [\"2018-10-01\", \"2018-10-31\"], [\"2018-11-01\", \"2018-11-30\"], [\"2018-12-01\", \"2018-12-31\"],\n",
    "         \n",
    "         [\"2017-01-01\", \"2017-01-31\"], [\"2017-02-01\", \"2017-02-28\"], [\"2017-03-01\", \"2017-03-31\"], \n",
    "         [\"2017-04-01\", \"2017-04-30\"], [\"2017-05-01\", \"2017-05-31\"], [\"2017-06-01\", \"2017-06-30\"],\n",
    "         [\"2017-07-01\", \"2017-07-31\"], [\"2017-08-01\", \"2017-08-31\"], [\"2017-09-01\", \"2017-09-30\"], \n",
    "         [\"2017-10-01\", \"2017-10-31\"], [\"2017-11-01\", \"2017-11-30\"], [\"2017-12-01\", \"2017-12-31\"]]"
   ]
  },
  {
   "cell_type": "code",
   "execution_count": 2,
   "metadata": {},
   "outputs": [
    {
     "name": "stdout",
     "output_type": "stream",
     "text": [
      "60\n",
      "59\n"
     ]
    }
   ],
   "source": [
    "print(len(dates))\n",
    "del dates[5]\n",
    "print(len(dates))   "
   ]
  }
 ],
 "metadata": {
  "kernelspec": {
   "display_name": "evapo_sentinelhub",
   "language": "python",
   "name": "python3"
  },
  "language_info": {
   "codemirror_mode": {
    "name": "ipython",
    "version": 3
   },
   "file_extension": ".py",
   "mimetype": "text/x-python",
   "name": "python",
   "nbconvert_exporter": "python",
   "pygments_lexer": "ipython3",
   "version": "3.13.2"
  }
 },
 "nbformat": 4,
 "nbformat_minor": 2
}
