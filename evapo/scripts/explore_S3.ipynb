{
 "cells": [
  {
   "cell_type": "code",
   "execution_count": 2,
   "metadata": {},
   "outputs": [],
   "source": [
    "import sys\n",
    "sys.path.append('../../scripts_collection/')\n",
    "from helpsters import *\n",
    "# import packages \n",
    "\n",
    "import rasterio as rio\n",
    "from rasterio.transform import from_origin"
   ]
  },
  {
   "cell_type": "code",
   "execution_count": 3,
   "metadata": {},
   "outputs": [],
   "source": [
    "files = sorted(getFilelist('/data/Aldhani/eoagritwin/et/data/Sentinel3/raw', '.nc'))\n",
    "year = 2024\n",
    "yearFiles = [file for file in files if int(file.split('/')[-1].split('_')[-1][0:4]) == year]\n",
    "\n",
    "# make dictionary that stores .tif names and related accDates to easier search to close observations with S2 data\n",
    "keys = ['filename', 'accDateTimes']\n",
    "vals = [list() for i in range(len(keys))]\n",
    "lookUp = dict(zip(keys, vals))\n"
   ]
  },
  {
   "cell_type": "code",
   "execution_count": null,
   "metadata": {},
   "outputs": [
    {
     "name": "stderr",
     "output_type": "stream",
     "text": [
      "/tmp/ipykernel_666741/1255348447.py:26: FutureWarning: Series.__getitem__ treating keys as positions is deprecated. In a future version, integer keys will always be treated as labels (consistent with DataFrame behavior). To access a value by position, use `ser.iloc[pos]`\n",
      "  cont.append(np.nansum(~np.isnan(aa[:, :, t1[l]:t2[l]]),axis=2))\n",
      "/tmp/ipykernel_666741/1255348447.py:26: FutureWarning: Series.__getitem__ treating keys as positions is deprecated. In a future version, integer keys will always be treated as labels (consistent with DataFrame behavior). To access a value by position, use `ser.iloc[pos]`\n",
      "  cont.append(np.nansum(~np.isnan(aa[:, :, t1[l]:t2[l]]),axis=2))\n",
      "/tmp/ipykernel_666741/1255348447.py:26: FutureWarning: Series.__getitem__ treating keys as positions is deprecated. In a future version, integer keys will always be treated as labels (consistent with DataFrame behavior). To access a value by position, use `ser.iloc[pos]`\n",
      "  cont.append(np.nansum(~np.isnan(aa[:, :, t1[l]:t2[l]]),axis=2))\n",
      "/tmp/ipykernel_666741/1255348447.py:26: FutureWarning: Series.__getitem__ treating keys as positions is deprecated. In a future version, integer keys will always be treated as labels (consistent with DataFrame behavior). To access a value by position, use `ser.iloc[pos]`\n",
      "  cont.append(np.nansum(~np.isnan(aa[:, :, t1[l]:t2[l]]),axis=2))\n",
      "/tmp/ipykernel_666741/1255348447.py:26: FutureWarning: Series.__getitem__ treating keys as positions is deprecated. In a future version, integer keys will always be treated as labels (consistent with DataFrame behavior). To access a value by position, use `ser.iloc[pos]`\n",
      "  cont.append(np.nansum(~np.isnan(aa[:, :, t1[l]:t2[l]]),axis=2))\n",
      "/tmp/ipykernel_666741/1255348447.py:26: FutureWarning: Series.__getitem__ treating keys as positions is deprecated. In a future version, integer keys will always be treated as labels (consistent with DataFrame behavior). To access a value by position, use `ser.iloc[pos]`\n",
      "  cont.append(np.nansum(~np.isnan(aa[:, :, t1[l]:t2[l]]),axis=2))\n",
      "/tmp/ipykernel_666741/1255348447.py:26: FutureWarning: Series.__getitem__ treating keys as positions is deprecated. In a future version, integer keys will always be treated as labels (consistent with DataFrame behavior). To access a value by position, use `ser.iloc[pos]`\n",
      "  cont.append(np.nansum(~np.isnan(aa[:, :, t1[l]:t2[l]]),axis=2))\n",
      "/tmp/ipykernel_666741/1255348447.py:26: FutureWarning: Series.__getitem__ treating keys as positions is deprecated. In a future version, integer keys will always be treated as labels (consistent with DataFrame behavior). To access a value by position, use `ser.iloc[pos]`\n",
      "  cont.append(np.nansum(~np.isnan(aa[:, :, t1[l]:t2[l]]),axis=2))\n",
      "/tmp/ipykernel_666741/1255348447.py:26: FutureWarning: Series.__getitem__ treating keys as positions is deprecated. In a future version, integer keys will always be treated as labels (consistent with DataFrame behavior). To access a value by position, use `ser.iloc[pos]`\n",
      "  cont.append(np.nansum(~np.isnan(aa[:, :, t1[l]:t2[l]]),axis=2))\n",
      "/tmp/ipykernel_666741/1255348447.py:26: FutureWarning: Series.__getitem__ treating keys as positions is deprecated. In a future version, integer keys will always be treated as labels (consistent with DataFrame behavior). To access a value by position, use `ser.iloc[pos]`\n",
      "  cont.append(np.nansum(~np.isnan(aa[:, :, t1[l]:t2[l]]),axis=2))\n",
      "/tmp/ipykernel_666741/1255348447.py:26: FutureWarning: Series.__getitem__ treating keys as positions is deprecated. In a future version, integer keys will always be treated as labels (consistent with DataFrame behavior). To access a value by position, use `ser.iloc[pos]`\n",
      "  cont.append(np.nansum(~np.isnan(aa[:, :, t1[l]:t2[l]]),axis=2))\n",
      "/tmp/ipykernel_666741/1255348447.py:26: FutureWarning: Series.__getitem__ treating keys as positions is deprecated. In a future version, integer keys will always be treated as labels (consistent with DataFrame behavior). To access a value by position, use `ser.iloc[pos]`\n",
      "  cont.append(np.nansum(~np.isnan(aa[:, :, t1[l]:t2[l]]),axis=2))\n"
     ]
    }
   ],
   "source": [
    "# set storPath for exported tiffs\n",
    "storPath = '/data/Aldhani/eoagritwin/et/data/Sentinel3/tiffs/Analytics/'\n",
    "cont = []\n",
    "for file in yearFiles:\n",
    "\n",
    "    accDateTimes = getAllDatesS3(file) # possible to take annual subset if entire files list would be passed here\n",
    "    #convertNCtoTIF(file, storPath, file.split('/')[-1].split('.')[0] + '.tif', accDateTimes, True, True)\n",
    "\n",
    "    # # write filenames and corresponding dates into dictionary for easier datesearch later\n",
    "    # lookUp['filename'].append(file.split('.nc')[0])\n",
    "    # lookUp['accDateTimes'].append(accDateTimes)\n",
    "\n",
    "\n",
    "    # cont = []\n",
    "   \n",
    "    #for file in yearFiles:\n",
    "    aa  = getDataFromNC(file)\n",
    "    accDateTimes = getAllDatesS3(file)\n",
    "    df = pd.Series(accDateTimes)\n",
    "    counts_per_day = df.dt.floor(\"D\").value_counts().sort_index()\n",
    "    t2 = np.cumsum(counts_per_day)\n",
    "    t1 = np.insert(t2, 0 ,0)\n",
    "\n",
    "    for l in range(len(counts_per_day)):\n",
    "        # cont.append(np.any(~np.isnan(aa[:, :, t1[l]:t2[l]]),axis=2)) minimum dail obs\n",
    "        cont.append(np.nansum(~np.isnan(aa[:, :, t1[l]:t2[l]]),axis=2))\n",
    "\n",
    "    # exportNCarrayDerivatesInt(file, storPath, f'Minimum_DailyObservations_{('_').join(file.split('_')[-1].split('-')[:2])}.tif', 'monthly_sum_of_daily_obs', np.nansum(np.dstack((cont)), axis = 2), True)\n",
    "#xportNCarrayDerivatesInt(file, storPath, f'Minimum_DailyObservations_{file.split('_')[-1].split('-')[0]}.tif', 'annual_sum_of_daily_obs', np.nansum(np.dstack((cont)), axis = 2), True)\n",
    "exportNCarrayDerivatesInt(file, storPath, f'DailyObservations_{file.split('_')[-1].split('-')[0]}.tif', 'annual_sum_of_all_daily_obs', np.nansum(np.dstack((cont)), axis = 2), True)"
   ]
  },
  {
   "cell_type": "code",
   "execution_count": 18,
   "metadata": {},
   "outputs": [
    {
     "name": "stderr",
     "output_type": "stream",
     "text": [
      "/tmp/ipykernel_666741/631272441.py:2: RuntimeWarning: invalid value encountered in cast\n",
      "  dat.astype(np.uint16)\n"
     ]
    },
    {
     "data": {
      "text/plain": [
       "array(0, dtype=uint16)"
      ]
     },
     "execution_count": 18,
     "metadata": {},
     "output_type": "execute_result"
    }
   ],
   "source": [
    "dat = np.asarray((np.nan))\n",
    "dat.astype(np.uint16)"
   ]
  },
  {
   "cell_type": "code",
   "execution_count": 4,
   "metadata": {},
   "outputs": [
    {
     "data": {
      "text/plain": [
       "['/data/Aldhani/eoagritwin/et/data/Sentinel3/raw/Germany_2024-01.nc',\n",
       " '/data/Aldhani/eoagritwin/et/data/Sentinel3/raw/Germany_2024-02.nc',\n",
       " '/data/Aldhani/eoagritwin/et/data/Sentinel3/raw/Germany_2024-03.nc',\n",
       " '/data/Aldhani/eoagritwin/et/data/Sentinel3/raw/Germany_2024-04.nc',\n",
       " '/data/Aldhani/eoagritwin/et/data/Sentinel3/raw/Germany_2024-05.nc',\n",
       " '/data/Aldhani/eoagritwin/et/data/Sentinel3/raw/Germany_2024-06.nc',\n",
       " '/data/Aldhani/eoagritwin/et/data/Sentinel3/raw/Germany_2024-07.nc',\n",
       " '/data/Aldhani/eoagritwin/et/data/Sentinel3/raw/Germany_2024-08.nc',\n",
       " '/data/Aldhani/eoagritwin/et/data/Sentinel3/raw/Germany_2024-09.nc',\n",
       " '/data/Aldhani/eoagritwin/et/data/Sentinel3/raw/Germany_2024-10.nc',\n",
       " '/data/Aldhani/eoagritwin/et/data/Sentinel3/raw/Germany_2024-11.nc',\n",
       " '/data/Aldhani/eoagritwin/et/data/Sentinel3/raw/Germany_2024-12.nc']"
      ]
     },
     "execution_count": 4,
     "metadata": {},
     "output_type": "execute_result"
    }
   ],
   "source": [
    "yearFiles"
   ]
  }
 ],
 "metadata": {
  "kernelspec": {
   "display_name": "evapo_sentinelhub",
   "language": "python",
   "name": "python3"
  },
  "language_info": {
   "codemirror_mode": {
    "name": "ipython",
    "version": 3
   },
   "file_extension": ".py",
   "mimetype": "text/x-python",
   "name": "python",
   "nbconvert_exporter": "python",
   "pygments_lexer": "ipython3",
   "version": "3.13.2"
  }
 },
 "nbformat": 4,
 "nbformat_minor": 2
}
